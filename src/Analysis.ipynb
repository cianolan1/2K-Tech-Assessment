{
 "cells": [
  {
   "cell_type": "markdown",
   "metadata": {},
   "source": [
    "### **Introduction**\n",
    "\n",
    "This analysis focuses on customer and marketing data for a men’s fashion retailer, aiming to provide strategic insights into customer behavior, channel performance, and demographic differences. The goal of this analysis is to help the retailer optimize its marketing efforts, improve customer retention, and maximize profitability.\n",
    "\n",
    "#### **Key Objectives:**\n",
    "1. **Data Preparation & Cleaning**: Ensure the data is structured, clean, and ready for analysis. This includes handling missing values, ensuring proper data types, and loading data from multiple sources.\n",
    "2. **Channel Performance Analysis**: Evaluate the performance of various marketing channels (e.g., Paid Search, Organic Search, Affiliates) to identify which channels provide the best return on investment (ROI) and customer lifetime value (CLV).\n",
    "3. **Demographic Differences Analysis**: Analyze how customer demographics (age, location, and contact preferences) influence profitability and customer behavior, identifying key segments for targeted marketing efforts.\n",
    "4. **Customer Behavior Analysis**: Assess customer purchasing behavior, including subsequent orders and the impact of promotions, and identify churn risks to improve customer retention.\n",
    "5. **Recommendations**: Based on the analysis, provide actionable recommendations on how the retailer can optimize marketing spend, target key demographics, and enhance customer retention strategies.\n",
    "\n",
    "This notebook is structured to first prepare and clean the data, followed by exploring key areas of performance and customer segmentation. Finally, actionable insights will be summarized to guide future marketing and customer retention strategies.\n"
   ]
  },
  {
   "cell_type": "markdown",
   "metadata": {},
   "source": [
    "### **Step 1: Data Preparation & Cleaning**\n",
    "\n",
    "#### **Tasks**:\n",
    "1. **Understand the structure**: Review the sheets and columns in each DataFrame.\n",
    "   - **Definitions**: Reference terms and their meanings.\n",
    "   - **Cost**: Monthly marketing spend across different channels.\n",
    "   - **Value_Info**: Customer purchase behavior (profits, orders).\n",
    "   - **Demographic_Info**: Demographic details (age, location, acquisition source).\n",
    "   \n",
    "2. **Check for missing data**:\n",
    "   - Handle missing values, if any, across all DataFrames.\n",
    "   - Use `df.isnull().sum()` to identify missing values.\n",
    "   - Decide how to handle missing data: Drop, fill with averages, or flag them.\n",
    "\n",
    "3. **Convert data types**:\n",
    "   - Ensure that numeric columns (e.g., profit, counts) are appropriately typed.\n",
    "   - Convert date columns to datetime format where necessary.\n",
    "\n",
    "#### **Deliverables**:\n",
    "- **Cleaned DataFrames** ready for analysis.\n"
   ]
  },
  {
   "cell_type": "code",
   "execution_count": 9,
   "metadata": {},
   "outputs": [
    {
     "name": "stdout",
     "output_type": "stream",
     "text": [
      "/home/cian/2K-Tech-Assessment/src\n"
     ]
    }
   ],
   "source": [
    "import os\n",
    "import pandas as pd\n",
    "# Print the current working directory\n",
    "print(os.getcwd())"
   ]
  },
  {
   "cell_type": "code",
   "execution_count": 10,
   "metadata": {},
   "outputs": [
    {
     "name": "stdout",
     "output_type": "stream",
     "text": [
      "['Analysis.ipynb']\n"
     ]
    }
   ],
   "source": [
    "print(os.listdir())"
   ]
  },
  {
   "cell_type": "code",
   "execution_count": 11,
   "metadata": {},
   "outputs": [
    {
     "name": "stdout",
     "output_type": "stream",
     "text": [
      "['Definitions', 'Cost', 'Value Info', 'Demographic Info']\n"
     ]
    }
   ],
   "source": [
    "file_path = \"../data/Quantitative_Task_-_Data_Analysis_-_Auction.xlsx\"\n",
    "\n",
    "xls = pd.ExcelFile(file_path)\n",
    "\n",
    "# Print out all the sheet names\n",
    "print(xls.sheet_names)"
   ]
  },
  {
   "cell_type": "code",
   "execution_count": 12,
   "metadata": {},
   "outputs": [],
   "source": [
    "sheet_names = xls.sheet_names\n",
    "\n",
    "# Load each sheet into a different DataFrame\n",
    "Definitions = pd.read_excel(file_path, sheet_name = sheet_names[0])\n",
    "Cost = pd.read_excel(file_path, sheet_name = sheet_names[1])\n",
    "Value_Info = pd.read_excel(file_path, sheet_name = sheet_names[2])\n",
    "Demographic_Info = pd.read_excel(file_path, sheet_name = sheet_names[3])\n",
    "\n"
   ]
  },
  {
   "cell_type": "code",
   "execution_count": 13,
   "metadata": {},
   "outputs": [
    {
     "name": "stdout",
     "output_type": "stream",
     "text": [
      "\n",
      "Definitions DataFrame\n",
      "                     Definitions  \\\n",
      "0               1st Order Profit   \n",
      "1        Subsequent Order Profit   \n",
      "2              Subsequent Orders   \n",
      "3  Total value of all promotions   \n",
      "4                            NaN   \n",
      "\n",
      "                                          Unnamed: 1  \n",
      "0  Total profit made on first order from a custom...  \n",
      "1  Total profit made on all subsequent orders fro...  \n",
      "2  Total number of orders subsequent to the 1st o...  \n",
      "3  The total loss of the promotional discounts th...  \n",
      "4                                                NaN  \n",
      "<class 'pandas.core.frame.DataFrame'>\n",
      "RangeIndex: 11 entries, 0 to 10\n",
      "Data columns (total 2 columns):\n",
      " #   Column       Non-Null Count  Dtype \n",
      "---  ------       --------------  ----- \n",
      " 0   Definitions  10 non-null     object\n",
      " 1   Unnamed: 1   9 non-null      object\n",
      "dtypes: object(2)\n",
      "memory usage: 308.0+ bytes\n",
      "None\n",
      "\n",
      "Missing values in Definitions:\n",
      "Definitions    1\n",
      "Unnamed: 1     2\n",
      "dtype: int64\n",
      "\n",
      "Cost DataFrame\n",
      "       Month  Paid Search  Affiliates\n",
      "0 2013-01-01     41512.00       16421\n",
      "1 2013-02-01     61243.00       42101\n",
      "2 2013-03-01     84597.88      141321\n",
      "<class 'pandas.core.frame.DataFrame'>\n",
      "RangeIndex: 3 entries, 0 to 2\n",
      "Data columns (total 3 columns):\n",
      " #   Column       Non-Null Count  Dtype         \n",
      "---  ------       --------------  -----         \n",
      " 0   Month        3 non-null      datetime64[ns]\n",
      " 1   Paid Search  3 non-null      float64       \n",
      " 2   Affiliates   3 non-null      int64         \n",
      "dtypes: datetime64[ns](1), float64(1), int64(1)\n",
      "memory usage: 204.0 bytes\n",
      "None\n",
      "\n",
      "Missing values in Cost:\n",
      "Month          0\n",
      "Paid Search    0\n",
      "Affiliates     0\n",
      "dtype: int64\n",
      "\n",
      "Value_Info DataFrame\n",
      "   Customer ID  1st Order Profit  Subsequent Order Profit  \\\n",
      "0            1           8.97261                  5.30772   \n",
      "1            2           7.92288                 70.15680   \n",
      "2            3          14.06160                 50.80320   \n",
      "3            4          14.07672                  0.00000   \n",
      "4            5          22.68000                 68.22144   \n",
      "\n",
      "   Subsequent Orders Count  Total value of all promotions  \n",
      "0                        1                       6.600000  \n",
      "1                        7                       6.639453  \n",
      "2                        7                       0.000000  \n",
      "3                        0                       0.000000  \n",
      "4                        9                      14.771948  \n",
      "<class 'pandas.core.frame.DataFrame'>\n",
      "RangeIndex: 30591 entries, 0 to 30590\n",
      "Data columns (total 5 columns):\n",
      " #   Column                         Non-Null Count  Dtype  \n",
      "---  ------                         --------------  -----  \n",
      " 0   Customer ID                    30591 non-null  int64  \n",
      " 1   1st Order Profit               30591 non-null  float64\n",
      " 2   Subsequent Order Profit        30591 non-null  float64\n",
      " 3   Subsequent Orders Count        30591 non-null  int64  \n",
      " 4   Total value of all promotions  30591 non-null  float64\n",
      "dtypes: float64(3), int64(2)\n",
      "memory usage: 1.2 MB\n",
      "None\n",
      "\n",
      "Missing values in Value_Info:\n",
      "Customer ID                      0\n",
      "1st Order Profit                 0\n",
      "Subsequent Order Profit          0\n",
      "Subsequent Orders Count          0\n",
      "Total value of all promotions    0\n",
      "dtype: int64\n",
      "\n",
      "Demographic_Info DataFrame\n",
      "   Customer ID Title Date Of Birth Address City Contact Allowed  \\\n",
      "0            1    Mr    1973-06-29     Malahide               Y   \n",
      "1            2    Mr    1984-07-25       Dublin               Y   \n",
      "2            3    Mr    1991-05-01       Dublin               Y   \n",
      "3            4    Mr    1986-11-30       Dublin               N   \n",
      "4            5    Mr    1991-10-02     Limerick               Y   \n",
      "\n",
      "    Registration Date Source of Customer  \n",
      "0 2013-01-01 00:23:00     Organic Search  \n",
      "1 2013-01-01 00:30:00         Affiliates  \n",
      "2 2013-01-01 01:09:00        Paid Social  \n",
      "3 2013-01-01 01:19:00         Affiliates  \n",
      "4 2013-01-01 01:58:00        Paid Search  \n",
      "<class 'pandas.core.frame.DataFrame'>\n",
      "RangeIndex: 31441 entries, 0 to 31440\n",
      "Data columns (total 7 columns):\n",
      " #   Column              Non-Null Count  Dtype         \n",
      "---  ------              --------------  -----         \n",
      " 0   Customer ID         31441 non-null  int64         \n",
      " 1   Title               27363 non-null  object        \n",
      " 2   Date Of Birth       31441 non-null  datetime64[ns]\n",
      " 3   Address City        31441 non-null  object        \n",
      " 4   Contact Allowed     31441 non-null  object        \n",
      " 5   Registration Date   31441 non-null  datetime64[ns]\n",
      " 6   Source of Customer  31441 non-null  object        \n",
      "dtypes: datetime64[ns](2), int64(1), object(4)\n",
      "memory usage: 1.7+ MB\n",
      "None\n",
      "\n",
      "Missing values in Demographic_Info:\n",
      "Customer ID              0\n",
      "Title                 4078\n",
      "Date Of Birth            0\n",
      "Address City             0\n",
      "Contact Allowed          0\n",
      "Registration Date        0\n",
      "Source of Customer       0\n",
      "dtype: int64\n"
     ]
    }
   ],
   "source": [
    "# Refactor for displaying data info and checking missing values in a loop\n",
    "dataframes = [Definitions, Cost, Value_Info, Demographic_Info]\n",
    "df_names = ['Definitions', 'Cost', 'Value_Info', 'Demographic_Info']\n",
    "\n",
    "for df, name in zip(dataframes, df_names):\n",
    "    print(f\"\\n{name} DataFrame\")\n",
    "    print(df.head())\n",
    "    print(df.info())\n",
    "    print(f\"\\nMissing values in {name}:\")\n",
    "    print(df.isnull().sum())"
   ]
  },
  {
   "cell_type": "code",
   "execution_count": 14,
   "metadata": {},
   "outputs": [
    {
     "name": "stdout",
     "output_type": "stream",
     "text": [
      "Missing values in Definitions:\n",
      "Definitions    1\n",
      "Unnamed: 1     2\n",
      "dtype: int64\n",
      "\n",
      "Missing values in Cost:\n",
      "Month          0\n",
      "Paid Search    0\n",
      "Affiliates     0\n",
      "dtype: int64\n",
      "\n",
      "Missing values in Value_Info:\n",
      "Customer ID                      0\n",
      "1st Order Profit                 0\n",
      "Subsequent Order Profit          0\n",
      "Subsequent Orders Count          0\n",
      "Total value of all promotions    0\n",
      "dtype: int64\n",
      "\n",
      "Missing values in Demographic_Info:\n",
      "Customer ID              0\n",
      "Title                 4078\n",
      "Date Of Birth            0\n",
      "Address City             0\n",
      "Contact Allowed          0\n",
      "Registration Date        0\n",
      "Source of Customer       0\n",
      "dtype: int64\n"
     ]
    }
   ],
   "source": [
    "# Check for missing values in each DataFrame\n",
    "print(\"Missing values in Definitions:\")\n",
    "print(Definitions.isnull().sum())\n",
    "\n",
    "print(\"\\nMissing values in Cost:\")\n",
    "print(Cost.isnull().sum())\n",
    "\n",
    "print(\"\\nMissing values in Value_Info:\")\n",
    "print(Value_Info.isnull().sum())\n",
    "\n",
    "print(\"\\nMissing values in Demographic_Info:\")\n",
    "print(Demographic_Info.isnull().sum())\n"
   ]
  },
  {
   "cell_type": "code",
   "execution_count": 15,
   "metadata": {},
   "outputs": [
    {
     "name": "stdout",
     "output_type": "stream",
     "text": [
      "Customer ID                    int64\n",
      "Title                         object\n",
      "Date Of Birth         datetime64[ns]\n",
      "Address City                  object\n",
      "Contact Allowed               object\n",
      "Registration Date     datetime64[ns]\n",
      "Source of Customer            object\n",
      "dtype: object\n"
     ]
    }
   ],
   "source": [
    "# Convert date columns to datetime format in Demographic_Info\n",
    "Demographic_Info['Date Of Birth'] = pd.to_datetime(Demographic_Info['Date Of Birth'], errors='coerce')\n",
    "Demographic_Info['Registration Date'] = pd.to_datetime(Demographic_Info['Registration Date'], errors='coerce')\n",
    "\n",
    "# Verify the conversions\n",
    "print(Demographic_Info.dtypes)\n"
   ]
  },
  {
   "cell_type": "code",
   "execution_count": 16,
   "metadata": {},
   "outputs": [
    {
     "name": "stdout",
     "output_type": "stream",
     "text": [
      "31441\n"
     ]
    }
   ],
   "source": [
    "print(len(Demographic_Info))"
   ]
  },
  {
   "cell_type": "code",
   "execution_count": 17,
   "metadata": {},
   "outputs": [
    {
     "name": "stdout",
     "output_type": "stream",
     "text": [
      "Customer ID                        int64\n",
      "1st Order Profit                 float64\n",
      "Subsequent Order Profit          float64\n",
      "Subsequent Orders Count            int64\n",
      "Total value of all promotions    float64\n",
      "dtype: object\n"
     ]
    }
   ],
   "source": [
    "# Check the data types of Value_Info to ensure numeric columns are properly typed\n",
    "print(Value_Info.dtypes)\n"
   ]
  },
  {
   "cell_type": "code",
   "execution_count": 18,
   "metadata": {},
   "outputs": [
    {
     "name": "stdout",
     "output_type": "stream",
     "text": [
      "   Customer ID Date Of Birth Address City Contact Allowed   Registration Date  \\\n",
      "0            1    1973-06-29     Malahide               Y 2013-01-01 00:23:00   \n",
      "1            2    1984-07-25       Dublin               Y 2013-01-01 00:30:00   \n",
      "2            3    1991-05-01       Dublin               Y 2013-01-01 01:09:00   \n",
      "3            4    1986-11-30       Dublin               N 2013-01-01 01:19:00   \n",
      "4            5    1991-10-02     Limerick               Y 2013-01-01 01:58:00   \n",
      "\n",
      "  Source of Customer  \n",
      "0     Organic Search  \n",
      "1         Affiliates  \n",
      "2        Paid Social  \n",
      "3         Affiliates  \n",
      "4        Paid Search  \n"
     ]
    }
   ],
   "source": [
    "# Drop the 'Title' column from Demographic_Info due to the missing values\n",
    "Demographic_Info = Demographic_Info.drop(columns=['Title'])\n",
    "\n",
    "# Verify the change\n",
    "print(Demographic_Info.head())"
   ]
  },
  {
   "cell_type": "markdown",
   "metadata": {},
   "source": [
    "### **Step 2: Channel Performance Analysis**\n",
    "\n",
    "#### **Objective**:\n",
    "Identify which marketing channels drive the most value and provide the best return on investment (ROI).\n",
    "\n",
    "#### **Tasks**:\n",
    "1. **Summarize total and average spend** for each marketing channel from the `Cost` DataFrame.\n",
    "   - Group by channel and calculate total marketing spend.\n",
    "\n",
    "2. **Compare marketing spend to customer acquisition** in `Demographic_Info`.\n",
    "   - Join customer acquisition channels from `Demographic_Info` with marketing spend from `Cost` to assess ROI.\n",
    "\n",
    "3. **Calculate key metrics**:\n",
    "   - **Cost per acquisition (CPA)** by dividing spend by the number of customers acquired per channel.\n",
    "   - **Profit per channel** by aggregating the `1st Order Profit` and `Subsequent Order Profit` by `Source of Customer`.\n",
    "\n",
    "4. **Plot key metrics**:\n",
    "   - Plot spend vs profit by channel to see which channels provide the highest ROI.\n"
   ]
  },
  {
   "cell_type": "code",
   "execution_count": 19,
   "metadata": {},
   "outputs": [
    {
     "data": {
      "text/html": [
       "<div>\n",
       "<style scoped>\n",
       "    .dataframe tbody tr th:only-of-type {\n",
       "        vertical-align: middle;\n",
       "    }\n",
       "\n",
       "    .dataframe tbody tr th {\n",
       "        vertical-align: top;\n",
       "    }\n",
       "\n",
       "    .dataframe thead th {\n",
       "        text-align: right;\n",
       "    }\n",
       "</style>\n",
       "<table border=\"1\" class=\"dataframe\">\n",
       "  <thead>\n",
       "    <tr style=\"text-align: right;\">\n",
       "      <th></th>\n",
       "      <th>Month</th>\n",
       "      <th>Paid Search</th>\n",
       "      <th>Affiliates</th>\n",
       "    </tr>\n",
       "  </thead>\n",
       "  <tbody>\n",
       "    <tr>\n",
       "      <th>0</th>\n",
       "      <td>2013-01-01</td>\n",
       "      <td>41512.00</td>\n",
       "      <td>16421</td>\n",
       "    </tr>\n",
       "    <tr>\n",
       "      <th>1</th>\n",
       "      <td>2013-02-01</td>\n",
       "      <td>61243.00</td>\n",
       "      <td>42101</td>\n",
       "    </tr>\n",
       "    <tr>\n",
       "      <th>2</th>\n",
       "      <td>2013-03-01</td>\n",
       "      <td>84597.88</td>\n",
       "      <td>141321</td>\n",
       "    </tr>\n",
       "  </tbody>\n",
       "</table>\n",
       "</div>"
      ],
      "text/plain": [
       "       Month  Paid Search  Affiliates\n",
       "0 2013-01-01     41512.00       16421\n",
       "1 2013-02-01     61243.00       42101\n",
       "2 2013-03-01     84597.88      141321"
      ]
     },
     "execution_count": 19,
     "metadata": {},
     "output_type": "execute_result"
    }
   ],
   "source": [
    "Cost"
   ]
  },
  {
   "cell_type": "code",
   "execution_count": 20,
   "metadata": {},
   "outputs": [
    {
     "name": "stdout",
     "output_type": "stream",
     "text": [
      "Total Spend by Channel:\n",
      "Paid Search    187352.88\n",
      "Affiliates     199843.00\n",
      "dtype: float64\n",
      "\n",
      "Average Spend per Month by Channel:\n",
      "Paid Search    62450.960000\n",
      "Affiliates     66614.333333\n",
      "dtype: float64\n"
     ]
    }
   ],
   "source": [
    "# Summarize total marketing spend per channel\n",
    "total_spend = Cost[['Paid Search', 'Affiliates']].sum()\n",
    "\n",
    "# Calculate average spend per month for each channel\n",
    "average_spend = Cost[['Paid Search', 'Affiliates']].mean()\n",
    "\n",
    "# Display the results\n",
    "print(\"Total Spend by Channel:\")\n",
    "print(total_spend)\n",
    "\n",
    "print(\"\\nAverage Spend per Month by Channel:\")\n",
    "print(average_spend)"
   ]
  },
  {
   "cell_type": "code",
   "execution_count": 21,
   "metadata": {},
   "outputs": [
    {
     "name": "stdout",
     "output_type": "stream",
     "text": [
      "Customer Acquisition by Channel:\n",
      "Source of Customer\n",
      "Direct            11252\n",
      "Organic Search     8392\n",
      "Paid Search        6518\n",
      "Affiliates         3868\n",
      "Paid Social        1411\n",
      "Name: count, dtype: int64\n"
     ]
    }
   ],
   "source": [
    "# Group by 'Source of Customer' to count the number of customers acquired via each channel\n",
    "customer_acquisition = Demographic_Info['Source of Customer'].value_counts()\n",
    "\n",
    "# Display the results\n",
    "print(\"Customer Acquisition by Channel:\")\n",
    "print(customer_acquisition)\n"
   ]
  },
  {
   "cell_type": "code",
   "execution_count": 22,
   "metadata": {},
   "outputs": [
    {
     "name": "stdout",
     "output_type": "stream",
     "text": [
      "Total Profit by Channel:\n",
      "Source of Customer\n",
      "Affiliates        138310.352264\n",
      "Direct            534625.999680\n",
      "Organic Search    407498.059650\n",
      "Paid Search       305940.955560\n",
      "Paid Social        85690.836192\n",
      "Name: Total Profit, dtype: float64\n",
      "\n",
      "Cost per Acquisition (CPA) by Channel:\n",
      "Affiliates        51.665719\n",
      "Direct                  NaN\n",
      "Organic Search          NaN\n",
      "Paid Search       28.743921\n",
      "Paid Social             NaN\n",
      "dtype: float64\n"
     ]
    }
   ],
   "source": [
    "# Merge Demographic_Info and Value_Info on 'Customer ID' to associate customers with their profits\n",
    "merged_data = pd.merge(Demographic_Info, Value_Info, on='Customer ID')\n",
    "\n",
    "# Calculate total profit (1st Order Profit + Subsequent Order Profit) for each customer\n",
    "merged_data['Total Profit'] = merged_data['1st Order Profit'] + merged_data['Subsequent Order Profit']\n",
    "\n",
    "# Group by 'Source of Customer' to get total profit per channel\n",
    "profit_per_channel = merged_data.groupby('Source of Customer')['Total Profit'].sum()\n",
    "\n",
    "# Calculate CPA (Cost per Acquisition)\n",
    "# First match the channel names to ensure consistency between Cost and Demographic_Info\n",
    "cost_per_channel = pd.Series([total_spend['Paid Search'], total_spend['Affiliates']], index=['Paid Search', 'Affiliates'])\n",
    "\n",
    "# Calculate CPA by dividing total spend by number of customers acquired per channel\n",
    "cpa_per_channel = cost_per_channel / customer_acquisition\n",
    "\n",
    "# Display the results\n",
    "print(\"Total Profit by Channel:\")\n",
    "print(profit_per_channel)\n",
    "\n",
    "print(\"\\nCost per Acquisition (CPA) by Channel:\")\n",
    "print(cpa_per_channel)\n"
   ]
  },
  {
   "cell_type": "code",
   "execution_count": 23,
   "metadata": {},
   "outputs": [
    {
     "data": {
      "image/png": "[encoded data removed]",
      "text/plain": [
       "<Figure size 1000x500 with 1 Axes>"
      ]
     },
     "metadata": {},
     "output_type": "display_data"
    },
    {
     "data": {
      "image/png": "[encoded data removed]",
      "text/plain": [
       "<Figure size 1000x500 with 1 Axes>"
      ]
     },
     "metadata": {},
     "output_type": "display_data"
    }
   ],
   "source": [
    "import matplotlib.pyplot as plt\n",
    "\n",
    "# Plot marketing spend vs profit by channel\n",
    "plt.figure(figsize=(10, 5))\n",
    "plt.bar(cost_per_channel.index, total_spend, label='Total Spend', alpha=0.7)\n",
    "plt.bar(profit_per_channel.index, profit_per_channel, label='Total Profit', alpha=0.7)\n",
    "plt.title(\"Marketing Spend vs Profit by Channel\")\n",
    "plt.xlabel(\"Marketing Channel\")\n",
    "plt.ylabel(\"Amount\")\n",
    "plt.legend()\n",
    "plt.show()\n",
    "\n",
    "# Plot CPA by channel\n",
    "plt.figure(figsize=(10, 5))\n",
    "plt.bar(cpa_per_channel.index, cpa_per_channel, color='orange')\n",
    "plt.title(\"Cost per Acquisition (CPA) by Channel\")\n",
    "plt.xlabel(\"Marketing Channel\")\n",
    "plt.ylabel(\"CPA\")\n",
    "plt.show()\n"
   ]
  },
  {
   "cell_type": "code",
   "execution_count": null,
   "metadata": {},
   "outputs": [],
   "source": []
  },
  {
   "cell_type": "markdown",
   "metadata": {},
   "source": [
    "### **Step 3: Demographic Differences Analysis**\n",
    "\n",
    "#### **Objective**:\n",
    "Understand how customer demographics influence profitability, purchasing behavior, and channel performance.\n",
    "\n",
    "#### **Tasks**:\n",
    "1. **Segment customers by age groups** (using `Date of Birth` from `Demographic_Info`) and analyze their:\n",
    "   - Average `1st Order Profit`.\n",
    "   - Average `Subsequent Orders Count`.\n",
    "   - Channel of acquisition (`Source of Customer`).\n",
    "\n",
    "2. **Analyze geographic patterns**:\n",
    "   - Group customers by `City` and see if certain locations are more profitable or have higher customer acquisition rates.\n",
    "\n",
    "3. **Contact Preferences**:\n",
    "   - Evaluate differences in profitability between customers who allowed contact vs. those who didn’t.\n"
   ]
  },
  {
   "cell_type": "code",
   "execution_count": 24,
   "metadata": {},
   "outputs": [
    {
     "name": "stdout",
     "output_type": "stream",
     "text": [
      "Average Profit and Subsequent Orders by Age Group:\n",
      "           1st Order Profit  Subsequent Orders Count\n",
      "Age Group                                           \n",
      "18-25                   NaN                      NaN\n",
      "26-35              9.165768                 4.135493\n",
      "36-45              9.718833                 4.066567\n",
      "46-55             11.496207                 4.021914\n",
      "56-65             13.595367                 3.988393\n",
      "65+               12.582368                 4.023350\n",
      "\n",
      "Customer Acquisition by Channel and Age Group:\n",
      "Source of Customer  Affiliates  Direct  Organic Search  Paid Search  \\\n",
      "Age Group                                                             \n",
      "18-25                        0       0               0            0   \n",
      "26-35                      567    1537            1209          773   \n",
      "36-45                     1526    5005            3719         2683   \n",
      "46-55                      904    2735            1859         1621   \n",
      "56-65                      484    1103             871          750   \n",
      "65+                        272     561             502          525   \n",
      "\n",
      "Source of Customer  Paid Social  \n",
      "Age Group                        \n",
      "18-25                         0  \n",
      "26-35                       298  \n",
      "36-45                       497  \n",
      "46-55                       319  \n",
      "56-65                       152  \n",
      "65+                         110  \n"
     ]
    },
    {
     "name": "stderr",
     "output_type": "stream",
     "text": [
      "/tmp/ipykernel_274725/3105530737.py:17: FutureWarning: The default of observed=False is deprecated and will be changed to True in a future version of pandas. Pass observed=False to retain current behavior or observed=True to adopt the future default and silence this warning.\n",
      "  age_group_profit = merged_data.groupby('Age Group').agg({\n",
      "/tmp/ipykernel_274725/3105530737.py:27: FutureWarning: The default of observed=False is deprecated and will be changed to True in a future version of pandas. Pass observed=False to retain current behavior or observed=True to adopt the future default and silence this warning.\n",
      "  age_group_channel = merged_data.groupby(['Age Group', 'Source of Customer']).size().unstack()\n"
     ]
    }
   ],
   "source": [
    "# Create an 'Age' column by calculating the difference between the current date and Date of Birth\n",
    "from datetime import datetime\n",
    "\n",
    "# Calculate age from Date of Birth\n",
    "current_year = datetime.now().year\n",
    "Demographic_Info['Age'] = current_year - Demographic_Info['Date Of Birth'].dt.year\n",
    "\n",
    "# Define age groups (you can adjust the bins as needed)\n",
    "bins = [18, 25, 35, 45, 55, 65, 100]  # Example age bins\n",
    "labels = ['18-25', '26-35', '36-45', '46-55', '56-65', '65+']\n",
    "Demographic_Info['Age Group'] = pd.cut(Demographic_Info['Age'], bins=bins, labels=labels)\n",
    "\n",
    "# Merge Demographic_Info and Value_Info to link age and profitability data\n",
    "merged_data = pd.merge(Demographic_Info, Value_Info, on='Customer ID')\n",
    "\n",
    "# Group by Age Group to calculate average 1st Order Profit and Subsequent Orders Count\n",
    "age_group_profit = merged_data.groupby('Age Group').agg({\n",
    "    '1st Order Profit': 'mean',\n",
    "    'Subsequent Orders Count': 'mean'\n",
    "})\n",
    "\n",
    "# Display the results\n",
    "print(\"Average Profit and Subsequent Orders by Age Group:\")\n",
    "print(age_group_profit)\n",
    "\n",
    "# Analyze acquisition channel by age group\n",
    "age_group_channel = merged_data.groupby(['Age Group', 'Source of Customer']).size().unstack()\n",
    "\n",
    "print(\"\\nCustomer Acquisition by Channel and Age Group:\")\n",
    "print(age_group_channel)\n"
   ]
  },
  {
   "cell_type": "code",
   "execution_count": 25,
   "metadata": {},
   "outputs": [],
   "source": [
    "# Merge Demographic_Info and Value_Info to link city and profitability data\n",
    "merged_data = pd.merge(Demographic_Info, Value_Info, on='Customer ID')\n",
    "\n",
    "# Create Total Profit column by summing 1st Order Profit and Subsequent Order Profit\n",
    "merged_data['Total Profit'] = merged_data['1st Order Profit'] + merged_data['Subsequent Order Profit']\n",
    "\n",
    "# Now, proceed with the geographic analysis by city\n"
   ]
  },
  {
   "cell_type": "code",
   "execution_count": 26,
   "metadata": {},
   "outputs": [
    {
     "name": "stdout",
     "output_type": "stream",
     "text": [
      "Profitability by City:\n",
      "              Total Profit  Average Profit per Customer  Customer Count\n",
      "Address City                                                           \n",
      "Dublin        1.015310e+06                    47.982498           21160\n",
      "Cork          5.379036e+04                    51.326678            1048\n",
      "Galway        2.947283e+04                    46.195660             638\n",
      "Limerick      2.894300e+04                    46.909230             617\n",
      "Waterford     1.805357e+04                    47.384701             381\n",
      "Kilkenny      1.330647e+04                    50.594933             263\n",
      "Dundalk       1.205703e+04                    50.029183             241\n",
      "Wexford       1.187609e+04                    49.278394             241\n",
      "Mullingar     1.163404e+04                    48.882535             238\n",
      "Tallaght      1.068597e+04                    46.060204             232\n"
     ]
    }
   ],
   "source": [
    "# Group by City to calculate total and average profit for each city\n",
    "city_profit = merged_data.groupby('Address City').agg({\n",
    "    'Total Profit': ['sum', 'mean'],  # Sum of total profit and average profit per customer\n",
    "    'Customer ID': 'count'  # Total customers in each city\n",
    "})\n",
    "\n",
    "# Sort cities by total profit for analysis\n",
    "city_profit.columns = ['Total Profit', 'Average Profit per Customer', 'Customer Count']\n",
    "city_profit = city_profit.sort_values(by='Total Profit', ascending=False)\n",
    "\n",
    "# Display the results\n",
    "print(\"Profitability by City:\")\n",
    "print(city_profit.head(10))  # Display top 10 cities by profit\n"
   ]
  },
  {
   "cell_type": "code",
   "execution_count": 27,
   "metadata": {},
   "outputs": [
    {
     "name": "stdout",
     "output_type": "stream",
     "text": [
      "Profit and Subsequent Orders by Contact Preference:\n",
      "                 Total Profit  Subsequent Orders Count\n",
      "Contact Allowed                                       \n",
      "N                   39.599089                 3.216797\n",
      "Y                   54.370761                 4.668178\n"
     ]
    }
   ],
   "source": [
    "# Group by Contact Allowed to calculate average profit and subsequent orders\n",
    "contact_preference_profit = merged_data.groupby('Contact Allowed').agg({\n",
    "    'Total Profit': 'mean',\n",
    "    'Subsequent Orders Count': 'mean'\n",
    "})\n",
    "\n",
    "# Display the results\n",
    "print(\"Profit and Subsequent Orders by Contact Preference:\")\n",
    "print(contact_preference_profit)\n"
   ]
  },
  {
   "cell_type": "code",
   "execution_count": null,
   "metadata": {},
   "outputs": [],
   "source": []
  },
  {
   "cell_type": "code",
   "execution_count": null,
   "metadata": {},
   "outputs": [],
   "source": []
  },
  {
   "cell_type": "markdown",
   "metadata": {},
   "source": [
    "### **Step 4: Customer Behavior Analysis**\n",
    "\n",
    "#### **Objective**:\n",
    "Evaluate customer purchasing behavior to identify opportunities for increasing customer lifetime value (CLV).\n",
    "\n",
    "#### **Tasks**:\n",
    "\n",
    "1. **Customer segmentation**:\n",
    "   - Analyze how customers behave post-acquisition:\n",
    "     - Compare average `Subsequent Orders Count` across different channels.\n",
    "     - Compare `Subsequent Order Profit` and `1st Order Profit` to determine customer lifetime value by channel.\n",
    "\n",
    "2. **Promotional impact**:\n",
    "   - Analyze the impact of promotions by reviewing `Total value of all promotions` in relation to `Subsequent Orders Count` and profitability.\n",
    "\n",
    "3. **Churn risk analysis**:\n",
    "   - Identify any patterns in customers who only make a `1st Order` and no subsequent orders, which could indicate churn.\n",
    "   - Plot time between first and subsequent orders to evaluate the customer retention rate.\n"
   ]
  },
  {
   "cell_type": "code",
   "execution_count": 28,
   "metadata": {},
   "outputs": [
    {
     "name": "stdout",
     "output_type": "stream",
     "text": [
      "Average Subsequent Orders Count by Channel:\n",
      "Source of Customer\n",
      "Affiliates        4.203674\n",
      "Direct            4.027694\n",
      "Organic Search    4.083660\n",
      "Paid Search       3.919578\n",
      "Paid Social       4.301599\n",
      "Name: Subsequent Orders Count, dtype: float64\n",
      "\n",
      "Average 1st Order Profit and Subsequent Order Profit by Channel:\n",
      "                    1st Order Profit  Subsequent Order Profit\n",
      "Source of Customer                                           \n",
      "Affiliates                  7.925100                28.898742\n",
      "Direct                     10.793229                38.071226\n",
      "Organic Search             11.086243                38.827777\n",
      "Paid Search                10.918521                37.230827\n",
      "Paid Social                13.829113                48.446204\n"
     ]
    }
   ],
   "source": [
    "# Calculate average Subsequent Orders Count by channel\n",
    "subsequent_orders_by_channel = merged_data.groupby('Source of Customer')['Subsequent Orders Count'].mean()\n",
    "\n",
    "# Compare 1st Order Profit and Subsequent Order Profit by channel\n",
    "profit_by_channel = merged_data.groupby('Source of Customer').agg({\n",
    "    '1st Order Profit': 'mean',\n",
    "    'Subsequent Order Profit': 'mean'\n",
    "})\n",
    "\n",
    "# Display the results\n",
    "print(\"Average Subsequent Orders Count by Channel:\")\n",
    "print(subsequent_orders_by_channel)\n",
    "\n",
    "print(\"\\nAverage 1st Order Profit and Subsequent Order Profit by Channel:\")\n",
    "print(profit_by_channel)\n"
   ]
  },
  {
   "cell_type": "code",
   "execution_count": 29,
   "metadata": {},
   "outputs": [
    {
     "name": "stdout",
     "output_type": "stream",
     "text": [
      "Promotional Impact on Subsequent Orders and Profit:\n",
      "                               Subsequent Orders Count  Total Profit\n",
      "Total value of all promotions                                       \n",
      "-0.049922                                          0.0      12.48000\n",
      "-0.048879                                          0.0      18.23472\n",
      "-0.048758                                          0.0      13.82400\n",
      "-0.048637                                          2.0      27.23688\n",
      "-0.047506                                          7.0     105.82560\n",
      "...                                                ...           ...\n",
      " 112.588116                                       22.0     339.17400\n",
      " 123.915766                                        8.0     141.56928\n",
      " 126.994463                                       13.0     171.49440\n",
      " 137.402979                                       14.0     377.56800\n",
      " 145.264732                                       10.0     120.49884\n",
      "\n",
      "[21318 rows x 2 columns]\n"
     ]
    }
   ],
   "source": [
    "# Analyze how promotions impact Subsequent Orders Count and Total Profit\n",
    "promotion_impact = merged_data.groupby('Total value of all promotions').agg({\n",
    "    'Subsequent Orders Count': 'mean',\n",
    "    'Total Profit': 'mean'\n",
    "})\n",
    "\n",
    "# Display the results\n",
    "print(\"Promotional Impact on Subsequent Orders and Profit:\")\n",
    "print(promotion_impact)\n"
   ]
  },
  {
   "cell_type": "code",
   "execution_count": 30,
   "metadata": {},
   "outputs": [
    {
     "data": {
      "image/png": "[encoded data removed]",
      "text/plain": [
       "<Figure size 640x480 with 1 Axes>"
      ]
     },
     "metadata": {},
     "output_type": "display_data"
    }
   ],
   "source": [
    "import matplotlib.pyplot as plt\n",
    "\n",
    "# Identify churned customers (Subsequent Orders Count = 0)\n",
    "churned_customers = merged_data[merged_data['Subsequent Orders Count'] == 0]\n",
    "\n",
    "# Calculate churn rate by marketing channel\n",
    "churn_rate_by_channel = churned_customers['Source of Customer'].value_counts() / merged_data['Source of Customer'].value_counts()\n",
    "\n",
    "# Plot churn rate by channel\n",
    "churn_rate_by_channel.plot(kind='bar', title='Churn Rate by Channel')\n",
    "plt.xlabel(\"Marketing Channel\")\n",
    "plt.ylabel(\"Churn Rate\")\n",
    "plt.show()\n",
    "\n",
    "# Plot time between 1st and subsequent orders\n",
    "# Assume we have a 'First Order Date' and 'Subsequent Order Date' column\n",
    "# merged_data['Order Time Difference'] = (merged_data['Subsequent Order Date'] - merged_data['First Order Date']).dt.days\n",
    "\n",
    "# Plot a histogram of time differences\n",
    "# plt.hist(merged_data['Order Time Difference'].dropna(), bins=30)\n",
    "# plt.title(\"Time Between 1st and Subsequent Orders\")\n",
    "# plt.xlabel(\"Days\")\n",
    "# plt.ylabel(\"Frequency\")\n",
    "# plt.show()\n"
   ]
  },
  {
   "cell_type": "code",
   "execution_count": null,
   "metadata": {},
   "outputs": [],
   "source": []
  },
  {
   "cell_type": "code",
   "execution_count": null,
   "metadata": {},
   "outputs": [],
   "source": []
  },
  {
   "cell_type": "markdown",
   "metadata": {},
   "source": [
    "### **Step 5: Recommendations and Conclusion**\n",
    "\n",
    "#### **Objective**:\n",
    "Summarize the findings and provide actionable recommendations based on the analysis.\n",
    "\n",
    "#### **Tasks**:\n",
    "1. **Compile key insights** from channel performance, demographic differences, and customer behavior.\n",
    "   \n",
    "2. **Make strategic recommendations** on:\n",
    "   - Which channels the operator should invest more in (based on ROI and customer quality).\n",
    "   - Which demographics to target with marketing efforts.\n",
    "   - How to improve customer retention and maximize profitability.\n",
    "\n",
    "#### **Deliverables**:\n",
    "- A clear summary of insights and actionable recommendations for the operator to focus on.\n"
   ]
  },
  {
   "cell_type": "code",
   "execution_count": 31,
   "metadata": {},
   "outputs": [
    {
     "name": "stdout",
     "output_type": "stream",
     "text": [
      "Channel Performance Summary:\n",
      "                Total Spend  Customer Acquisition   Total Profit        CPA\n",
      "Affiliates        199843.00                  3868  138310.352264  51.665719\n",
      "Direct                  NaN                 11252  534625.999680        NaN\n",
      "Organic Search          NaN                  8392  407498.059650        NaN\n",
      "Paid Search       187352.88                  6518  305940.955560  28.743921\n",
      "Paid Social             NaN                  1411   85690.836192        NaN\n"
     ]
    }
   ],
   "source": [
    "# Channel performance summary (CPA, Total Profit, Customer Acquisition)\n",
    "channel_performance_summary = pd.DataFrame({\n",
    "    'Total Spend': total_spend,\n",
    "    'Customer Acquisition': customer_acquisition,\n",
    "    'Total Profit': profit_per_channel,\n",
    "    'CPA': cpa_per_channel\n",
    "})\n",
    "\n",
    "# Display the channel performance summary\n",
    "print(\"Channel Performance Summary:\")\n",
    "print(channel_performance_summary)\n"
   ]
  },
  {
   "cell_type": "code",
   "execution_count": 32,
   "metadata": {},
   "outputs": [
    {
     "name": "stdout",
     "output_type": "stream",
     "text": [
      "Age Group Profitability Summary:\n",
      "           Total Profit  Subsequent Orders Count\n",
      "Age Group                                       \n",
      "18-25               NaN                      NaN\n",
      "26-35         41.540358                 4.135493\n",
      "36-45         44.319686                 4.066567\n",
      "46-55         51.515705                 4.021914\n",
      "56-65         59.736447                 3.988393\n",
      "65+           56.100865                 4.023350\n",
      "\n",
      "City Profitability Summary (Top Cities):\n",
      "              Total Profit  Customer ID\n",
      "Address City                           \n",
      "Dublin        1.015310e+06        21160\n",
      "Cork          5.379036e+04         1048\n",
      "Galway        2.947283e+04          638\n",
      "Limerick      2.894300e+04          617\n",
      "Waterford     1.805357e+04          381\n",
      "Kilkenny      1.330647e+04          263\n",
      "Dundalk       1.205703e+04          241\n",
      "Wexford       1.187609e+04          241\n",
      "Mullingar     1.163404e+04          238\n",
      "Tallaght      1.068597e+04          232\n",
      "\n",
      "Contact Preference Summary:\n",
      "                 Total Profit  Subsequent Orders Count\n",
      "Contact Allowed                                       \n",
      "N                   39.599089                 3.216797\n",
      "Y                   54.370761                 4.668178\n"
     ]
    },
    {
     "name": "stderr",
     "output_type": "stream",
     "text": [
      "/tmp/ipykernel_274725/3685368680.py:2: FutureWarning: The default of observed=False is deprecated and will be changed to True in a future version of pandas. Pass observed=False to retain current behavior or observed=True to adopt the future default and silence this warning.\n",
      "  age_group_summary = merged_data.groupby('Age Group').agg({\n"
     ]
    }
   ],
   "source": [
    "# Demographic insights (age groups, geographic patterns, contact preferences)\n",
    "age_group_summary = merged_data.groupby('Age Group').agg({\n",
    "    'Total Profit': 'mean',\n",
    "    'Subsequent Orders Count': 'mean'\n",
    "})\n",
    "\n",
    "city_summary = merged_data.groupby('Address City').agg({\n",
    "    'Total Profit': 'sum',\n",
    "    'Customer ID': 'count'\n",
    "})\n",
    "\n",
    "contact_preference_summary = merged_data.groupby('Contact Allowed').agg({\n",
    "    'Total Profit': 'mean',\n",
    "    'Subsequent Orders Count': 'mean'\n",
    "})\n",
    "\n",
    "# Display demographic summaries\n",
    "print(\"Age Group Profitability Summary:\")\n",
    "print(age_group_summary)\n",
    "\n",
    "print(\"\\nCity Profitability Summary (Top Cities):\")\n",
    "print(city_summary.sort_values(by='Total Profit', ascending=False).head(10))\n",
    "\n",
    "print(\"\\nContact Preference Summary:\")\n",
    "print(contact_preference_summary)\n"
   ]
  },
  {
   "cell_type": "code",
   "execution_count": 33,
   "metadata": {},
   "outputs": [
    {
     "name": "stdout",
     "output_type": "stream",
     "text": [
      "Customer Lifetime Value (CLV) by Channel:\n",
      "Source of Customer\n",
      "Affiliates        36.823842\n",
      "Direct            48.864455\n",
      "Organic Search    49.914020\n",
      "Paid Search       48.149348\n",
      "Paid Social       62.275317\n",
      "Name: Total Profit, dtype: float64\n",
      "\n",
      "Churn Rate by Channel:\n",
      "Source of Customer\n",
      "Direct            0.353258\n",
      "Organic Search    0.349216\n",
      "Paid Search       0.364337\n",
      "Affiliates        0.337593\n",
      "Paid Social       0.321221\n",
      "Name: count, dtype: float64\n"
     ]
    }
   ],
   "source": [
    "# CLV and churn summary\n",
    "clv_summary = merged_data.groupby('Source of Customer')['Total Profit'].mean()\n",
    "churn_summary = churn_rate_by_channel\n",
    "\n",
    "# Display CLV and churn summaries\n",
    "print(\"Customer Lifetime Value (CLV) by Channel:\")\n",
    "print(clv_summary)\n",
    "\n",
    "print(\"\\nChurn Rate by Channel:\")\n",
    "print(churn_summary)\n"
   ]
  },
  {
   "cell_type": "code",
   "execution_count": 34,
   "metadata": {},
   "outputs": [
    {
     "name": "stdout",
     "output_type": "stream",
     "text": [
      "\n",
      "Recommended Channels to Invest More In:\n",
      "Empty DataFrame\n",
      "Columns: [Total Spend, Customer Acquisition, Total Profit, CPA]\n",
      "Index: []\n"
     ]
    }
   ],
   "source": [
    "# Recommendation for channel investment based on CPA and CLV\n",
    "investment_recommendation = channel_performance_summary[\n",
    "    (channel_performance_summary['CPA'] < channel_performance_summary['CPA'].mean()) & \n",
    "    (clv_summary > clv_summary.mean())\n",
    "]\n",
    "\n",
    "print(\"\\nRecommended Channels to Invest More In:\")\n",
    "print(investment_recommendation)\n"
   ]
  },
  {
   "cell_type": "code",
   "execution_count": 35,
   "metadata": {},
   "outputs": [
    {
     "name": "stdout",
     "output_type": "stream",
     "text": [
      "\n",
      "Recommended Age Groups to Target:\n",
      "           Total Profit  Subsequent Orders Count\n",
      "Age Group                                       \n",
      "46-55         51.515705                 4.021914\n",
      "56-65         59.736447                 3.988393\n",
      "65+           56.100865                 4.023350\n",
      "\n",
      "Recommended Cities to Target:\n",
      "              Total Profit  Customer ID\n",
      "Address City                           \n",
      "Dublin        1.015310e+06        21160\n",
      "Cork          5.379036e+04         1048\n",
      "Galway        2.947283e+04          638\n"
     ]
    }
   ],
   "source": [
    "# Recommendations for demographic targeting based on profitability\n",
    "age_recommendation = age_group_summary[age_group_summary['Total Profit'] > age_group_summary['Total Profit'].mean()]\n",
    "city_recommendation = city_summary[city_summary['Total Profit'] > city_summary['Total Profit'].mean()]\n",
    "\n",
    "print(\"\\nRecommended Age Groups to Target:\")\n",
    "print(age_recommendation)\n",
    "\n",
    "print(\"\\nRecommended Cities to Target:\")\n",
    "print(city_recommendation.sort_values(by='Total Profit', ascending=False).head(5))\n"
   ]
  },
  {
   "cell_type": "code",
   "execution_count": 36,
   "metadata": {},
   "outputs": [
    {
     "name": "stdout",
     "output_type": "stream",
     "text": [
      "\n",
      "Recommendation: Encourage Contact Opt-ins (Higher Retention and Profitability)\n",
      "                 Total Profit  Subsequent Orders Count\n",
      "Contact Allowed                                       \n",
      "N                   39.599089                 3.216797\n",
      "Y                   54.370761                 4.668178\n",
      "\n",
      "Recommendation: Target Promotions to High CLV Channels and Customers\n",
      "                               Subsequent Orders Count  Total Profit\n",
      "Total value of all promotions                                       \n",
      "29.934739                                         19.0     415.83168\n",
      "37.744211                                         19.0     401.30000\n",
      "65.632490                                         24.0     386.17920\n",
      "8.444622                                          16.0     377.95200\n",
      "137.402979                                        14.0     377.56800\n",
      "...                                                ...           ...\n",
      "0.342405                                           0.0       0.98000\n",
      "0.019621                                           0.0       0.88200\n",
      "0.408296                                           0.0       0.88200\n",
      "0.151842                                           0.0       0.88200\n",
      "0.538839                                           0.0       0.88200\n",
      "\n",
      "[21318 rows x 2 columns]\n"
     ]
    }
   ],
   "source": [
    "# Recommendations for improving customer retention\n",
    "print(\"\\nRecommendation: Encourage Contact Opt-ins (Higher Retention and Profitability)\")\n",
    "print(contact_preference_summary)\n",
    "\n",
    "print(\"\\nRecommendation: Target Promotions to High CLV Channels and Customers\")\n",
    "# Assume promotions data is available from previous analysis\n",
    "print(promotion_impact.sort_values(by='Total Profit', ascending=False))\n"
   ]
  }
 ],
 "metadata": {
  "kernelspec": {
   "display_name": "venv",
   "language": "python",
   "name": "python3"
  },
  "language_info": {
   "codemirror_mode": {
    "name": "ipython",
    "version": 3
   },
   "file_extension": ".py",
   "mimetype": "text/x-python",
   "name": "python",
   "nbconvert_exporter": "python",
   "pygments_lexer": "ipython3",
   "version": "3.12.2"
  }
 },
 "nbformat": 4,
 "nbformat_minor": 2
}
